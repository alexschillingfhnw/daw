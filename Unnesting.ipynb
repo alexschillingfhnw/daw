{
 "cells": [
  {
   "cell_type": "code",
   "execution_count": 1,
   "id": "bef45a2b",
   "metadata": {},
   "outputs": [],
   "source": [
    "import pandas as pd"
   ]
  },
  {
   "cell_type": "markdown",
   "id": "27925502",
   "metadata": {},
   "source": [
    "Gegeben sei ein Data Frame, welches in einer Spalte jeweils ein Dictionary enthält:"
   ]
  },
  {
   "cell_type": "code",
   "execution_count": 6,
   "id": "8917779e",
   "metadata": {},
   "outputs": [
    {
     "data": {
      "text/html": [
       "<div>\n",
       "<style scoped>\n",
       "    .dataframe tbody tr th:only-of-type {\n",
       "        vertical-align: middle;\n",
       "    }\n",
       "\n",
       "    .dataframe tbody tr th {\n",
       "        vertical-align: top;\n",
       "    }\n",
       "\n",
       "    .dataframe thead th {\n",
       "        text-align: right;\n",
       "    }\n",
       "</style>\n",
       "<table border=\"1\" class=\"dataframe\">\n",
       "  <thead>\n",
       "    <tr style=\"text-align: right;\">\n",
       "      <th></th>\n",
       "      <th>a</th>\n",
       "      <th>b</th>\n",
       "    </tr>\n",
       "  </thead>\n",
       "  <tbody>\n",
       "    <tr>\n",
       "      <th>0</th>\n",
       "      <td>1</td>\n",
       "      <td>{'x': 1, 'y': 2, 'z': 3}</td>\n",
       "    </tr>\n",
       "    <tr>\n",
       "      <th>1</th>\n",
       "      <td>2</td>\n",
       "      <td>{'x': 4, 'y': 5, 'z': 6}</td>\n",
       "    </tr>\n",
       "    <tr>\n",
       "      <th>2</th>\n",
       "      <td>3</td>\n",
       "      <td>{'x': 7, 'y': 8, 'z': 9}</td>\n",
       "    </tr>\n",
       "  </tbody>\n",
       "</table>\n",
       "</div>"
      ],
      "text/plain": [
       "   a                         b\n",
       "0  1  {'x': 1, 'y': 2, 'z': 3}\n",
       "1  2  {'x': 4, 'y': 5, 'z': 6}\n",
       "2  3  {'x': 7, 'y': 8, 'z': 9}"
      ]
     },
     "execution_count": 6,
     "metadata": {},
     "output_type": "execute_result"
    }
   ],
   "source": [
    "df = pd.DataFrame(\n",
    "    {'a': [1,2,3], \n",
    "     'b': [{'x': 1, 'y': 2, 'z': 3}, {'x': 4, 'y': 5, 'z': 6}, {'x': 7, 'y': 8, 'z': 9}]}\n",
    ")\n",
    "df"
   ]
  },
  {
   "cell_type": "markdown",
   "id": "cc7aa3f2",
   "metadata": {},
   "source": [
    "Die Dictionaries möchten wir gerne in separate Spalten bringen. Folgende Ansätze aus Pandas bieten sich dazu an:\n",
    "\n",
    "**json_normalize**"
   ]
  },
  {
   "cell_type": "code",
   "execution_count": 16,
   "id": "4985812d",
   "metadata": {},
   "outputs": [],
   "source": [
    "unnested = pd.json_normalize( df['b'] )\n",
    "df_unnested = pd.concat( [df.a, unnested], axis=1 )"
   ]
  },
  {
   "cell_type": "markdown",
   "id": "cc8da4d1",
   "metadata": {},
   "source": [
    "**DataFrame.from_records()**"
   ]
  },
  {
   "cell_type": "code",
   "execution_count": 9,
   "id": "324d9464",
   "metadata": {},
   "outputs": [
    {
     "data": {
      "text/html": [
       "<div>\n",
       "<style scoped>\n",
       "    .dataframe tbody tr th:only-of-type {\n",
       "        vertical-align: middle;\n",
       "    }\n",
       "\n",
       "    .dataframe tbody tr th {\n",
       "        vertical-align: top;\n",
       "    }\n",
       "\n",
       "    .dataframe thead th {\n",
       "        text-align: right;\n",
       "    }\n",
       "</style>\n",
       "<table border=\"1\" class=\"dataframe\">\n",
       "  <thead>\n",
       "    <tr style=\"text-align: right;\">\n",
       "      <th></th>\n",
       "      <th>a</th>\n",
       "      <th>x</th>\n",
       "      <th>y</th>\n",
       "      <th>z</th>\n",
       "    </tr>\n",
       "  </thead>\n",
       "  <tbody>\n",
       "    <tr>\n",
       "      <th>0</th>\n",
       "      <td>1</td>\n",
       "      <td>1</td>\n",
       "      <td>2</td>\n",
       "      <td>3</td>\n",
       "    </tr>\n",
       "    <tr>\n",
       "      <th>1</th>\n",
       "      <td>2</td>\n",
       "      <td>4</td>\n",
       "      <td>5</td>\n",
       "      <td>6</td>\n",
       "    </tr>\n",
       "    <tr>\n",
       "      <th>2</th>\n",
       "      <td>3</td>\n",
       "      <td>7</td>\n",
       "      <td>8</td>\n",
       "      <td>9</td>\n",
       "    </tr>\n",
       "  </tbody>\n",
       "</table>\n",
       "</div>"
      ],
      "text/plain": [
       "   a  x  y  z\n",
       "0  1  1  2  3\n",
       "1  2  4  5  6\n",
       "2  3  7  8  9"
      ]
     },
     "execution_count": 9,
     "metadata": {},
     "output_type": "execute_result"
    }
   ],
   "source": [
    "unnested = pd.DataFrame.from_records( df['b'] )\n",
    "df_unnested = pd.concat( [df.a, unnested], axis=1 )"
   ]
  },
  {
   "cell_type": "markdown",
   "id": "e9441bce",
   "metadata": {},
   "source": [
    "**apply(pd.Series)**"
   ]
  },
  {
   "cell_type": "code",
   "execution_count": null,
   "id": "8069e53a",
   "metadata": {},
   "outputs": [],
   "source": [
    "unnested = df.b.apply( pd.Series )\n",
    "pd.concat( [df.a, unnested], axis=1 )"
   ]
  },
  {
   "cell_type": "markdown",
   "id": "6571d01e",
   "metadata": {},
   "source": [
    "Alle drei führen zum selben Resultat:"
   ]
  },
  {
   "cell_type": "code",
   "execution_count": 11,
   "id": "38b62d5b",
   "metadata": {},
   "outputs": [
    {
     "data": {
      "text/html": [
       "<div>\n",
       "<style scoped>\n",
       "    .dataframe tbody tr th:only-of-type {\n",
       "        vertical-align: middle;\n",
       "    }\n",
       "\n",
       "    .dataframe tbody tr th {\n",
       "        vertical-align: top;\n",
       "    }\n",
       "\n",
       "    .dataframe thead th {\n",
       "        text-align: right;\n",
       "    }\n",
       "</style>\n",
       "<table border=\"1\" class=\"dataframe\">\n",
       "  <thead>\n",
       "    <tr style=\"text-align: right;\">\n",
       "      <th></th>\n",
       "      <th>a</th>\n",
       "      <th>x</th>\n",
       "      <th>y</th>\n",
       "      <th>z</th>\n",
       "    </tr>\n",
       "  </thead>\n",
       "  <tbody>\n",
       "    <tr>\n",
       "      <th>0</th>\n",
       "      <td>1</td>\n",
       "      <td>1</td>\n",
       "      <td>2</td>\n",
       "      <td>3</td>\n",
       "    </tr>\n",
       "    <tr>\n",
       "      <th>1</th>\n",
       "      <td>2</td>\n",
       "      <td>4</td>\n",
       "      <td>5</td>\n",
       "      <td>6</td>\n",
       "    </tr>\n",
       "    <tr>\n",
       "      <th>2</th>\n",
       "      <td>3</td>\n",
       "      <td>7</td>\n",
       "      <td>8</td>\n",
       "      <td>9</td>\n",
       "    </tr>\n",
       "  </tbody>\n",
       "</table>\n",
       "</div>"
      ],
      "text/plain": [
       "   a  x  y  z\n",
       "0  1  1  2  3\n",
       "1  2  4  5  6\n",
       "2  3  7  8  9"
      ]
     },
     "execution_count": 11,
     "metadata": {},
     "output_type": "execute_result"
    }
   ],
   "source": [
    "df_unnested"
   ]
  },
  {
   "cell_type": "code",
   "execution_count": null,
   "id": "40c24eff",
   "metadata": {},
   "outputs": [],
   "source": []
  }
 ],
 "metadata": {
  "kernelspec": {
   "display_name": "Python 3",
   "language": "python",
   "name": "python3"
  },
  "language_info": {
   "codemirror_mode": {
    "name": "ipython",
    "version": 3
   },
   "file_extension": ".py",
   "mimetype": "text/x-python",
   "name": "python",
   "nbconvert_exporter": "python",
   "pygments_lexer": "ipython3",
   "version": "3.8.8"
  }
 },
 "nbformat": 4,
 "nbformat_minor": 5
}
